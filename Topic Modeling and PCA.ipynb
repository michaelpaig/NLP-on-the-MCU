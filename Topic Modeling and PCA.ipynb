{
 "cells": [
  {
   "cell_type": "code",
   "execution_count": 38,
   "metadata": {},
   "outputs": [],
   "source": [
    "from bs4 import BeautifulSoup\n",
    "import requests\n",
    "\n",
    "import pandas as pd\n",
    "import numpy as np\n",
    "\n",
    "from sklearn.decomposition import NMF\n",
    "from gensim import corpora, models, similarities, matutils\n",
    "\n",
    "import string\n",
    "\n",
    "# logging for gensim (set to INFO)\n",
    "import logging\n",
    "import re\n",
    "logging.basicConfig(format='%(asctime)s : %(levelname)s : %(message)s', level=logging.INFO)\n",
    "\n",
    "import scipy.sparse\n",
    "from nltk import word_tokenize, pos_tag\n",
    "from nltk.stem import WordNetLemmatizer \n",
    "from nltk.corpus import stopwords\n",
    "from sklearn.feature_extraction.text import TfidfVectorizer\n",
    "\n",
    "import matplotlib.pyplot as plt\n",
    "import seaborn as sns\n",
    "import numpy as np\n",
    "\n",
    "plt.style.use(\"seaborn\")\n",
    "%matplotlib inline\n",
    "\n",
    "from sklearn.metrics import pairwise_distances\n",
    "from sklearn.metrics import silhouette_score\n",
    "from sklearn.decomposition import PCA\n"
   ]
  },
  {
   "cell_type": "markdown",
   "metadata": {},
   "source": [
    "### Import Clean Data from pickle file"
   ]
  },
  {
   "cell_type": "code",
   "execution_count": 2,
   "metadata": {},
   "outputs": [],
   "source": [
    "df = pd.read_pickle('project4.pkl')"
   ]
  },
  {
   "cell_type": "code",
   "execution_count": 3,
   "metadata": {},
   "outputs": [
    {
     "data": {
      "text/html": [
       "<div>\n",
       "<style scoped>\n",
       "    .dataframe tbody tr th:only-of-type {\n",
       "        vertical-align: middle;\n",
       "    }\n",
       "\n",
       "    .dataframe tbody tr th {\n",
       "        vertical-align: top;\n",
       "    }\n",
       "\n",
       "    .dataframe thead th {\n",
       "        text-align: right;\n",
       "    }\n",
       "</style>\n",
       "<table border=\"1\" class=\"dataframe\">\n",
       "  <thead>\n",
       "    <tr style=\"text-align: right;\">\n",
       "      <th></th>\n",
       "      <th>script</th>\n",
       "    </tr>\n",
       "  </thead>\n",
       "  <tbody>\n",
       "    <tr>\n",
       "      <th>Captain_Marvel_(2019)</th>\n",
       "      <td>wan i new t vulnerable supreme dangerous warri...</td>\n",
       "    </tr>\n",
       "    <tr>\n",
       "      <th>Captain_America:_The_First_Avenger</th>\n",
       "      <td>many other russian come i long i t open long g...</td>\n",
       "    </tr>\n",
       "    <tr>\n",
       "      <th>Ant-Man</th>\n",
       "      <td>t happy poor revolutionary u good i such god e...</td>\n",
       "    </tr>\n",
       "    <tr>\n",
       "      <th>Iron_Man</th>\n",
       "      <td>crazy hey forrest sir s personal good i i i i ...</td>\n",
       "    </tr>\n",
       "    <tr>\n",
       "      <th>Iron_Man_2</th>\n",
       "      <td>i i u bodyguard mysterious undisclosed high of...</td>\n",
       "    </tr>\n",
       "    <tr>\n",
       "      <th>Spider-Man:_Homecoming</th>\n",
       "      <td>same mean alien big green indian s native amer...</td>\n",
       "    </tr>\n",
       "    <tr>\n",
       "      <th>Iron_Man_3</th>\n",
       "      <td>own doesn famous uh sigh let tony great i piti...</td>\n",
       "    </tr>\n",
       "    <tr>\n",
       "      <th>Thor:_The_Dark_World</th>\n",
       "      <td>such evil possible ancient infinite noble migh...</td>\n",
       "    </tr>\n",
       "    <tr>\n",
       "      <th>Captain_America:_The_Winter_Soldier</th>\n",
       "      <td>left uh left left new late whole good soft i m...</td>\n",
       "    </tr>\n",
       "    <tr>\n",
       "      <th>Avengers:_Age_of_Ultron</th>\n",
       "      <td>central other hydra loki s last long last litt...</td>\n",
       "    </tr>\n",
       "    <tr>\n",
       "      <th>Captain_America:_Civil_War</th>\n",
       "      <td>standard small quiet good mean cross compromis...</td>\n",
       "    </tr>\n",
       "    <tr>\n",
       "      <th>Avengers:_Infinity_War</th>\n",
       "      <td>asgardian great oh worst asgardian asgardian h...</td>\n",
       "    </tr>\n",
       "    <tr>\n",
       "      <th>Avengers:_Endgame</th>\n",
       "      <td>don t yeah alright ready nice nice want uh mus...</td>\n",
       "    </tr>\n",
       "    <tr>\n",
       "      <th>Doctor Strange</th>\n",
       "      <td>ritual hypocrite good hard good useless top fl...</td>\n",
       "    </tr>\n",
       "    <tr>\n",
       "      <th>Avengers</th>\n",
       "      <td>little human ready human bad dr tesseract nasa...</td>\n",
       "    </tr>\n",
       "    <tr>\n",
       "      <th>Black Panther</th>\n",
       "      <td>ryan meteorite tiny strongest universe constan...</td>\n",
       "    </tr>\n",
       "  </tbody>\n",
       "</table>\n",
       "</div>"
      ],
      "text/plain": [
       "                                                                                script\n",
       "Captain_Marvel_(2019)                wan i new t vulnerable supreme dangerous warri...\n",
       "Captain_America:_The_First_Avenger   many other russian come i long i t open long g...\n",
       "Ant-Man                              t happy poor revolutionary u good i such god e...\n",
       "Iron_Man                             crazy hey forrest sir s personal good i i i i ...\n",
       "Iron_Man_2                           i i u bodyguard mysterious undisclosed high of...\n",
       "Spider-Man:_Homecoming               same mean alien big green indian s native amer...\n",
       "Iron_Man_3                           own doesn famous uh sigh let tony great i piti...\n",
       "Thor:_The_Dark_World                 such evil possible ancient infinite noble migh...\n",
       "Captain_America:_The_Winter_Soldier  left uh left left new late whole good soft i m...\n",
       "Avengers:_Age_of_Ultron              central other hydra loki s last long last litt...\n",
       "Captain_America:_Civil_War           standard small quiet good mean cross compromis...\n",
       "Avengers:_Infinity_War               asgardian great oh worst asgardian asgardian h...\n",
       "Avengers:_Endgame                    don t yeah alright ready nice nice want uh mus...\n",
       "Doctor Strange                       ritual hypocrite good hard good useless top fl...\n",
       "Avengers                             little human ready human bad dr tesseract nasa...\n",
       "Black Panther                        ryan meteorite tiny strongest universe constan..."
      ]
     },
     "execution_count": 3,
     "metadata": {},
     "output_type": "execute_result"
    }
   ],
   "source": [
    "df"
   ]
  },
  {
   "cell_type": "markdown",
   "metadata": {},
   "source": [
    "#### Put Captain Marvel in a seperate dataframe"
   ]
  },
  {
   "cell_type": "code",
   "execution_count": 4,
   "metadata": {},
   "outputs": [],
   "source": [
    "df20 = df.iloc[[0]]"
   ]
  },
  {
   "cell_type": "code",
   "execution_count": 7,
   "metadata": {},
   "outputs": [],
   "source": [
    "df20 = pd.DataFrame(df20)"
   ]
  },
  {
   "cell_type": "code",
   "execution_count": 8,
   "metadata": {},
   "outputs": [
    {
     "data": {
      "text/html": [
       "<div>\n",
       "<style scoped>\n",
       "    .dataframe tbody tr th:only-of-type {\n",
       "        vertical-align: middle;\n",
       "    }\n",
       "\n",
       "    .dataframe tbody tr th {\n",
       "        vertical-align: top;\n",
       "    }\n",
       "\n",
       "    .dataframe thead th {\n",
       "        text-align: right;\n",
       "    }\n",
       "</style>\n",
       "<table border=\"1\" class=\"dataframe\">\n",
       "  <thead>\n",
       "    <tr style=\"text-align: right;\">\n",
       "      <th></th>\n",
       "      <th>script</th>\n",
       "    </tr>\n",
       "  </thead>\n",
       "  <tbody>\n",
       "    <tr>\n",
       "      <th>Captain_Marvel_(2019)</th>\n",
       "      <td>wan i new t vulnerable supreme dangerous warri...</td>\n",
       "    </tr>\n",
       "  </tbody>\n",
       "</table>\n",
       "</div>"
      ],
      "text/plain": [
       "                                                                  script\n",
       "Captain_Marvel_(2019)  wan i new t vulnerable supreme dangerous warri..."
      ]
     },
     "execution_count": 8,
     "metadata": {},
     "output_type": "execute_result"
    }
   ],
   "source": [
    "df20"
   ]
  },
  {
   "cell_type": "code",
   "execution_count": 9,
   "metadata": {},
   "outputs": [],
   "source": [
    "data = df.copy()"
   ]
  },
  {
   "cell_type": "code",
   "execution_count": 10,
   "metadata": {},
   "outputs": [],
   "source": [
    "data.drop('Captain_Marvel_(2019)', axis=0, inplace=True)"
   ]
  },
  {
   "cell_type": "code",
   "execution_count": 11,
   "metadata": {},
   "outputs": [
    {
     "data": {
      "text/html": [
       "<div>\n",
       "<style scoped>\n",
       "    .dataframe tbody tr th:only-of-type {\n",
       "        vertical-align: middle;\n",
       "    }\n",
       "\n",
       "    .dataframe tbody tr th {\n",
       "        vertical-align: top;\n",
       "    }\n",
       "\n",
       "    .dataframe thead th {\n",
       "        text-align: right;\n",
       "    }\n",
       "</style>\n",
       "<table border=\"1\" class=\"dataframe\">\n",
       "  <thead>\n",
       "    <tr style=\"text-align: right;\">\n",
       "      <th></th>\n",
       "      <th>script</th>\n",
       "    </tr>\n",
       "  </thead>\n",
       "  <tbody>\n",
       "    <tr>\n",
       "      <th>Captain_America:_The_First_Avenger</th>\n",
       "      <td>many other russian come i long i t open long g...</td>\n",
       "    </tr>\n",
       "    <tr>\n",
       "      <th>Ant-Man</th>\n",
       "      <td>t happy poor revolutionary u good i such god e...</td>\n",
       "    </tr>\n",
       "    <tr>\n",
       "      <th>Iron_Man</th>\n",
       "      <td>crazy hey forrest sir s personal good i i i i ...</td>\n",
       "    </tr>\n",
       "    <tr>\n",
       "      <th>Iron_Man_2</th>\n",
       "      <td>i i u bodyguard mysterious undisclosed high of...</td>\n",
       "    </tr>\n",
       "    <tr>\n",
       "      <th>Spider-Man:_Homecoming</th>\n",
       "      <td>same mean alien big green indian s native amer...</td>\n",
       "    </tr>\n",
       "    <tr>\n",
       "      <th>Iron_Man_3</th>\n",
       "      <td>own doesn famous uh sigh let tony great i piti...</td>\n",
       "    </tr>\n",
       "    <tr>\n",
       "      <th>Thor:_The_Dark_World</th>\n",
       "      <td>such evil possible ancient infinite noble migh...</td>\n",
       "    </tr>\n",
       "    <tr>\n",
       "      <th>Captain_America:_The_Winter_Soldier</th>\n",
       "      <td>left uh left left new late whole good soft i m...</td>\n",
       "    </tr>\n",
       "    <tr>\n",
       "      <th>Avengers:_Age_of_Ultron</th>\n",
       "      <td>central other hydra loki s last long last litt...</td>\n",
       "    </tr>\n",
       "    <tr>\n",
       "      <th>Captain_America:_Civil_War</th>\n",
       "      <td>standard small quiet good mean cross compromis...</td>\n",
       "    </tr>\n",
       "    <tr>\n",
       "      <th>Avengers:_Infinity_War</th>\n",
       "      <td>asgardian great oh worst asgardian asgardian h...</td>\n",
       "    </tr>\n",
       "    <tr>\n",
       "      <th>Avengers:_Endgame</th>\n",
       "      <td>don t yeah alright ready nice nice want uh mus...</td>\n",
       "    </tr>\n",
       "    <tr>\n",
       "      <th>Doctor Strange</th>\n",
       "      <td>ritual hypocrite good hard good useless top fl...</td>\n",
       "    </tr>\n",
       "    <tr>\n",
       "      <th>Avengers</th>\n",
       "      <td>little human ready human bad dr tesseract nasa...</td>\n",
       "    </tr>\n",
       "    <tr>\n",
       "      <th>Black Panther</th>\n",
       "      <td>ryan meteorite tiny strongest universe constan...</td>\n",
       "    </tr>\n",
       "  </tbody>\n",
       "</table>\n",
       "</div>"
      ],
      "text/plain": [
       "                                                                                script\n",
       "Captain_America:_The_First_Avenger   many other russian come i long i t open long g...\n",
       "Ant-Man                              t happy poor revolutionary u good i such god e...\n",
       "Iron_Man                             crazy hey forrest sir s personal good i i i i ...\n",
       "Iron_Man_2                           i i u bodyguard mysterious undisclosed high of...\n",
       "Spider-Man:_Homecoming               same mean alien big green indian s native amer...\n",
       "Iron_Man_3                           own doesn famous uh sigh let tony great i piti...\n",
       "Thor:_The_Dark_World                 such evil possible ancient infinite noble migh...\n",
       "Captain_America:_The_Winter_Soldier  left uh left left new late whole good soft i m...\n",
       "Avengers:_Age_of_Ultron              central other hydra loki s last long last litt...\n",
       "Captain_America:_Civil_War           standard small quiet good mean cross compromis...\n",
       "Avengers:_Infinity_War               asgardian great oh worst asgardian asgardian h...\n",
       "Avengers:_Endgame                    don t yeah alright ready nice nice want uh mus...\n",
       "Doctor Strange                       ritual hypocrite good hard good useless top fl...\n",
       "Avengers                             little human ready human bad dr tesseract nasa...\n",
       "Black Panther                        ryan meteorite tiny strongest universe constan..."
      ]
     },
     "execution_count": 11,
     "metadata": {},
     "output_type": "execute_result"
    }
   ],
   "source": [
    "data"
   ]
  },
  {
   "cell_type": "code",
   "execution_count": 18,
   "metadata": {},
   "outputs": [],
   "source": [
    "m4= ['Captain_America:_The_First_Avenger', 'Ant-Man',\n",
    "              'Iron_Man', 'Iron_Man_2', 'Spider-Man:_Homecoming', 'Iron_Man_3', \n",
    "             'Thor:_The_Dark_World', 'Captain_America:_The_Winter_Soldier', 'Avengers:_Age_of_Ultron',\n",
    "              'Captain_America:_Civil_War', 'Avengers:_Infinity_War', 'Avengers:_Endgame', 'Doctor Strange', 'Avengers', 'Black Panther']"
   ]
  },
  {
   "cell_type": "code",
   "execution_count": 31,
   "metadata": {},
   "outputs": [],
   "source": [
    "m5= ['Captain_Marvel_(2019)','Captain_America:_The_First_Avenger', 'Ant-Man',\n",
    "              'Iron_Man', 'Iron_Man_2', 'Spider-Man:_Homecoming', 'Iron_Man_3', \n",
    "             'Thor:_The_Dark_World', 'Captain_America:_The_Winter_Soldier', 'Avengers:_Age_of_Ultron',\n",
    "              'Captain_America:_Civil_War', 'Avengers:_Infinity_War', 'Avengers:_Endgame', 'Doctor Strange', 'Avengers', 'Black Panther']\n"
   ]
  },
  {
   "cell_type": "code",
   "execution_count": 12,
   "metadata": {},
   "outputs": [],
   "source": [
    "stop_words = stopwords.words('english')\n",
    "stop_words.extend(['iron','sigh','hope','english','scott','stark', 'pym', 'vers', 'peter', 'stephen', 'skrulls', \n",
    "                   'simmed', \"alright\", 'nebula', 'subtitled', 'meant', 'natasha', 'ultron', 'bucky', 'asgard', 'pull', 'tried',\n",
    "                   'obsidian', 'glaive', 'clint', 'cont', 'heimdall', 'ivan', 'librarian', \n",
    "                   'gamora', 'rhodey', 'heidmall', 'coulson', 'pierce', 'rumlow', 'peggy', 'sitwell', 'nat', 'hulk', 'banner', 'barton',\n",
    "                     'quill', 'groot','na', 'tony', 'dormammu', 'rogers', 'carter', 'steve', 'dr', 'agent','mr', 'strange', \n",
    "                      'bruce', 'uhh', 'howard','uh','ve', 'skrull', 're', 'ned', 'liz', 'kree', 'yeah', 'soh', 'lawson', 'whoa',\n",
    "                        'ok', 'wanda', 'wong', 'joseph','schmidt', 'ant', 'gale', 'cassie', 'isn', 'padton', 'lang', 'zola', 'shield', \n",
    "                        'erskine', 'morita', 'didn', 'spider', 'okay', 'miss', 'daddy', 'seventh', 'happy', 'sub', 'sayin',\n",
    "                        'manhattan','parker', \"kaecilius\", \"hank\", \"captain\", \"taj\", \"america\", \"carol\", \"fury\",\n",
    "                        'green',\"pepper\", \"jarvis\", \"larr\", \"mar\", \"kamar\", \"mordo\", 'obadiah', \"hydra\", \"dave\", \n",
    "                        'russian', 'french','luis', 'kurt', 'scotty', 'karen', \"paxton\", \"yinsen\", 'goose', 'asguar' \n",
    "                        'portal', 'port' 'voiceover','sir', 'doin', 'olive', 'nakia', 'okoye', 'ext', 'killmonger', 'klaue',\n",
    "                        'london','nick', 'guardian', 'yup', 'thanos', 'gamma', 'dude', 'erik', \"asgardian\",\n",
    "                               'wakandan', 'um', 'ext', 'thor', 'loki', 'fandral', 'selvig', 'darcy', 'shuri',\n",
    "                                  'int', 'southkorea', 'odin', 'jane', 'sif', 'ross', 'volstagg', \n",
    "                                   \"supreme\",\"flerken\", \"ronan\", \"sam\", \"untranslated\", \"ramonda\", \n",
    "                                   'blue','black','lexus', \"zuri\", \"shur\", 'copy', 'korean', 'hogan', 'laufey', 'frigga', 'african'])"
   ]
  },
  {
   "cell_type": "markdown",
   "metadata": {},
   "source": [
    "### TFIDF + NMF for topic modeling"
   ]
  },
  {
   "cell_type": "code",
   "execution_count": 13,
   "metadata": {},
   "outputs": [],
   "source": [
    "tfidf1 = TfidfVectorizer(stop_words=stop_words, min_df = .1, max_df = .7)\n",
    "movie_df = tfidf1.fit_transform(data.script)"
   ]
  },
  {
   "cell_type": "code",
   "execution_count": 14,
   "metadata": {},
   "outputs": [],
   "source": [
    "nmf_model = NMF(6, random_state=45)\n",
    "doc_topic = nmf_model.fit_transform(movie_df)"
   ]
  },
  {
   "cell_type": "code",
   "execution_count": 15,
   "metadata": {},
   "outputs": [],
   "source": [
    "def display_topics(model, feature_names, no_top_words, topic_names=None):\n",
    "    for ix, topic in enumerate(model.components_):\n",
    "        if not topic_names or not topic_names[ix]:\n",
    "            print(\"\\nTopic \", ix)\n",
    "        else:\n",
    "            print(\"\\nTopic: '\",topic_names[ix],\"'\")\n",
    "        print(\", \".join([feature_names[i]\n",
    "                        for i in topic.argsort()[:-no_top_words - 1:-1]]))"
   ]
  },
  {
   "cell_type": "code",
   "execution_count": 16,
   "metadata": {},
   "outputs": [
    {
     "name": "stdout",
     "output_type": "stream",
     "text": [
      "\n",
      "Topic  0\n",
      "web, huge, cool, normal, large, awesome, alien, wide, left, enhanced\n",
      "\n",
      "Topic  1\n",
      "helicarrier, mercenary, portal, electric, civilian, secret, nuclear, chitauri, angry, flash\n",
      "\n",
      "Topic  2\n",
      "fantastic, ten, complete, fair, unbelievable, major, arc, dry, military, effective\n",
      "\n",
      "Topic  3\n",
      "dark, ancient, library, ritual, ship, eternal, mystic, universe, dimensional, astral\n",
      "\n",
      "Topic  4\n",
      "spear, sonic, warrior, massive, kinetic, large, tough, several, third, wooden\n",
      "\n",
      "Topic  5\n",
      "enlistment, nazi, sergeant, tower, super, crowd, late, stronger, beautiful, loud\n"
     ]
    }
   ],
   "source": [
    "display_topics(nmf_model, tfidf1.get_feature_names(), 10)"
   ]
  },
  {
   "cell_type": "code",
   "execution_count": 19,
   "metadata": {},
   "outputs": [
    {
     "data": {
      "text/html": [
       "<div>\n",
       "<style scoped>\n",
       "    .dataframe tbody tr th:only-of-type {\n",
       "        vertical-align: middle;\n",
       "    }\n",
       "\n",
       "    .dataframe tbody tr th {\n",
       "        vertical-align: top;\n",
       "    }\n",
       "\n",
       "    .dataframe thead th {\n",
       "        text-align: right;\n",
       "    }\n",
       "</style>\n",
       "<table border=\"1\" class=\"dataframe\">\n",
       "  <thead>\n",
       "    <tr style=\"text-align: right;\">\n",
       "      <th></th>\n",
       "      <th>0</th>\n",
       "      <th>1</th>\n",
       "      <th>2</th>\n",
       "      <th>3</th>\n",
       "      <th>4</th>\n",
       "      <th>5</th>\n",
       "    </tr>\n",
       "  </thead>\n",
       "  <tbody>\n",
       "    <tr>\n",
       "      <th>Captain_America:_The_First_Avenger</th>\n",
       "      <td>0.000</td>\n",
       "      <td>0.000</td>\n",
       "      <td>0.000</td>\n",
       "      <td>0.000</td>\n",
       "      <td>0.000</td>\n",
       "      <td>1.036</td>\n",
       "    </tr>\n",
       "    <tr>\n",
       "      <th>Ant-Man</th>\n",
       "      <td>0.269</td>\n",
       "      <td>0.000</td>\n",
       "      <td>0.134</td>\n",
       "      <td>0.000</td>\n",
       "      <td>0.000</td>\n",
       "      <td>0.160</td>\n",
       "    </tr>\n",
       "    <tr>\n",
       "      <th>Iron_Man</th>\n",
       "      <td>0.000</td>\n",
       "      <td>0.000</td>\n",
       "      <td>0.795</td>\n",
       "      <td>0.000</td>\n",
       "      <td>0.000</td>\n",
       "      <td>0.000</td>\n",
       "    </tr>\n",
       "    <tr>\n",
       "      <th>Iron_Man_2</th>\n",
       "      <td>0.000</td>\n",
       "      <td>0.000</td>\n",
       "      <td>0.783</td>\n",
       "      <td>0.000</td>\n",
       "      <td>0.005</td>\n",
       "      <td>0.000</td>\n",
       "    </tr>\n",
       "    <tr>\n",
       "      <th>Spider-Man:_Homecoming</th>\n",
       "      <td>0.507</td>\n",
       "      <td>0.000</td>\n",
       "      <td>0.000</td>\n",
       "      <td>0.000</td>\n",
       "      <td>0.000</td>\n",
       "      <td>0.000</td>\n",
       "    </tr>\n",
       "    <tr>\n",
       "      <th>Iron_Man_3</th>\n",
       "      <td>0.311</td>\n",
       "      <td>0.000</td>\n",
       "      <td>0.136</td>\n",
       "      <td>0.000</td>\n",
       "      <td>0.000</td>\n",
       "      <td>0.014</td>\n",
       "    </tr>\n",
       "    <tr>\n",
       "      <th>Thor:_The_Dark_World</th>\n",
       "      <td>0.000</td>\n",
       "      <td>0.000</td>\n",
       "      <td>0.029</td>\n",
       "      <td>0.721</td>\n",
       "      <td>0.000</td>\n",
       "      <td>0.018</td>\n",
       "    </tr>\n",
       "    <tr>\n",
       "      <th>Captain_America:_The_Winter_Soldier</th>\n",
       "      <td>0.000</td>\n",
       "      <td>0.773</td>\n",
       "      <td>0.000</td>\n",
       "      <td>0.000</td>\n",
       "      <td>0.000</td>\n",
       "      <td>0.020</td>\n",
       "    </tr>\n",
       "    <tr>\n",
       "      <th>Avengers:_Age_of_Ultron</th>\n",
       "      <td>0.001</td>\n",
       "      <td>0.507</td>\n",
       "      <td>0.232</td>\n",
       "      <td>0.043</td>\n",
       "      <td>0.000</td>\n",
       "      <td>0.011</td>\n",
       "    </tr>\n",
       "    <tr>\n",
       "      <th>Captain_America:_Civil_War</th>\n",
       "      <td>0.467</td>\n",
       "      <td>0.018</td>\n",
       "      <td>0.000</td>\n",
       "      <td>0.000</td>\n",
       "      <td>0.000</td>\n",
       "      <td>0.000</td>\n",
       "    </tr>\n",
       "    <tr>\n",
       "      <th>Avengers:_Infinity_War</th>\n",
       "      <td>0.354</td>\n",
       "      <td>0.056</td>\n",
       "      <td>0.000</td>\n",
       "      <td>0.030</td>\n",
       "      <td>0.238</td>\n",
       "      <td>0.000</td>\n",
       "    </tr>\n",
       "    <tr>\n",
       "      <th>Avengers:_Endgame</th>\n",
       "      <td>0.240</td>\n",
       "      <td>0.082</td>\n",
       "      <td>0.000</td>\n",
       "      <td>0.318</td>\n",
       "      <td>0.000</td>\n",
       "      <td>0.000</td>\n",
       "    </tr>\n",
       "    <tr>\n",
       "      <th>Doctor Strange</th>\n",
       "      <td>0.000</td>\n",
       "      <td>0.000</td>\n",
       "      <td>0.000</td>\n",
       "      <td>0.836</td>\n",
       "      <td>0.000</td>\n",
       "      <td>0.000</td>\n",
       "    </tr>\n",
       "    <tr>\n",
       "      <th>Avengers</th>\n",
       "      <td>0.000</td>\n",
       "      <td>0.774</td>\n",
       "      <td>0.000</td>\n",
       "      <td>0.000</td>\n",
       "      <td>0.000</td>\n",
       "      <td>0.000</td>\n",
       "    </tr>\n",
       "    <tr>\n",
       "      <th>Black Panther</th>\n",
       "      <td>0.000</td>\n",
       "      <td>0.000</td>\n",
       "      <td>0.000</td>\n",
       "      <td>0.000</td>\n",
       "      <td>1.002</td>\n",
       "      <td>0.000</td>\n",
       "    </tr>\n",
       "  </tbody>\n",
       "</table>\n",
       "</div>"
      ],
      "text/plain": [
       "                                         0      1      2      3      4      5\n",
       "Captain_America:_The_First_Avenger   0.000  0.000  0.000  0.000  0.000  1.036\n",
       "Ant-Man                              0.269  0.000  0.134  0.000  0.000  0.160\n",
       "Iron_Man                             0.000  0.000  0.795  0.000  0.000  0.000\n",
       "Iron_Man_2                           0.000  0.000  0.783  0.000  0.005  0.000\n",
       "Spider-Man:_Homecoming               0.507  0.000  0.000  0.000  0.000  0.000\n",
       "Iron_Man_3                           0.311  0.000  0.136  0.000  0.000  0.014\n",
       "Thor:_The_Dark_World                 0.000  0.000  0.029  0.721  0.000  0.018\n",
       "Captain_America:_The_Winter_Soldier  0.000  0.773  0.000  0.000  0.000  0.020\n",
       "Avengers:_Age_of_Ultron              0.001  0.507  0.232  0.043  0.000  0.011\n",
       "Captain_America:_Civil_War           0.467  0.018  0.000  0.000  0.000  0.000\n",
       "Avengers:_Infinity_War               0.354  0.056  0.000  0.030  0.238  0.000\n",
       "Avengers:_Endgame                    0.240  0.082  0.000  0.318  0.000  0.000\n",
       "Doctor Strange                       0.000  0.000  0.000  0.836  0.000  0.000\n",
       "Avengers                             0.000  0.774  0.000  0.000  0.000  0.000\n",
       "Black Panther                        0.000  0.000  0.000  0.000  1.002  0.000"
      ]
     },
     "execution_count": 19,
     "metadata": {},
     "output_type": "execute_result"
    }
   ],
   "source": [
    "movie_topic = pd.DataFrame(doc_topic.round(3), index=m4)\n",
    "movie_topic"
   ]
  },
  {
   "cell_type": "markdown",
   "metadata": {},
   "source": [
    "### PCA transformation and PCA Visualization"
   ]
  },
  {
   "cell_type": "code",
   "execution_count": 20,
   "metadata": {},
   "outputs": [],
   "source": [
    "pca = PCA(n_components=2)\n",
    "pca.fit(movie_topic)\n",
    "pcafeatures = pca.transform(movie_topic)"
   ]
  },
  {
   "cell_type": "code",
   "execution_count": 21,
   "metadata": {},
   "outputs": [
    {
     "data": {
      "text/plain": [
       "array([[-0.13395954,  0.10586598],\n",
       "       [-0.05814606,  0.13504694],\n",
       "       [ 0.09982306,  0.59627049],\n",
       "       [ 0.09728331,  0.58758749],\n",
       "       [-0.09485523,  0.03188897],\n",
       "       [-0.04837531,  0.12475287],\n",
       "       [-0.42857036, -0.3110638 ],\n",
       "       [ 0.57755089, -0.34811549],\n",
       "       [ 0.38249692, -0.07446559],\n",
       "       [-0.07537677,  0.02170708],\n",
       "       [-0.0770209 , -0.00650901],\n",
       "       [-0.17310598, -0.16960402],\n",
       "       [-0.49582941, -0.38887596],\n",
       "       [ 0.58040031, -0.35045529],\n",
       "       [-0.15231494,  0.04596933]])"
      ]
     },
     "execution_count": 21,
     "metadata": {},
     "output_type": "execute_result"
    }
   ],
   "source": [
    "pcafeatures"
   ]
  },
  {
   "cell_type": "code",
   "execution_count": 22,
   "metadata": {},
   "outputs": [
    {
     "data": {
      "text/plain": [
       "<matplotlib.axes._subplots.AxesSubplot at 0x127a81ac0>"
      ]
     },
     "execution_count": 22,
     "metadata": {},
     "output_type": "execute_result"
    },
    {
     "data": {
      "image/png": "[encoded data removed]",
      "text/plain": [
       "<Figure size 432x288 with 1 Axes>"
      ]
     },
     "metadata": {
      "needs_background": "light"
     },
     "output_type": "display_data"
    }
   ],
   "source": [
    "sns.scatterplot(pcafeatures[:,0], pcafeatures[:,1])"
   ]
  },
  {
   "cell_type": "code",
   "execution_count": 24,
   "metadata": {},
   "outputs": [],
   "source": [
    "df5 = tfidf1.transform(df20.script)\n",
    "df6 = nmf_model.transform(df5)\n",
    "pcafeatures2 = pca.transform(df6)"
   ]
  },
  {
   "cell_type": "code",
   "execution_count": 25,
   "metadata": {},
   "outputs": [
    {
     "data": {
      "text/plain": [
       "array([[0.15122852, 0.04578466, 0.10739722, 0.02969754, 0.08272817,\n",
       "        0.03395791]])"
      ]
     },
     "execution_count": 25,
     "metadata": {},
     "output_type": "execute_result"
    }
   ],
   "source": [
    "df6"
   ]
  },
  {
   "cell_type": "code",
   "execution_count": 26,
   "metadata": {},
   "outputs": [
    {
     "data": {
      "text/plain": [
       "array([[-0.02468814,  0.06588611]])"
      ]
     },
     "execution_count": 26,
     "metadata": {},
     "output_type": "execute_result"
    }
   ],
   "source": [
    "pcafeatures2"
   ]
  },
  {
   "cell_type": "code",
   "execution_count": 27,
   "metadata": {},
   "outputs": [],
   "source": [
    "pcalist = np.concatenate((pcafeatures2, pcafeatures))"
   ]
  },
  {
   "cell_type": "code",
   "execution_count": 28,
   "metadata": {},
   "outputs": [
    {
     "data": {
      "text/plain": [
       "array([[-0.02468814,  0.06588611],\n",
       "       [-0.13395954,  0.10586598],\n",
       "       [-0.05814606,  0.13504694],\n",
       "       [ 0.09982306,  0.59627049],\n",
       "       [ 0.09728331,  0.58758749],\n",
       "       [-0.09485523,  0.03188897],\n",
       "       [-0.04837531,  0.12475287],\n",
       "       [-0.42857036, -0.3110638 ],\n",
       "       [ 0.57755089, -0.34811549],\n",
       "       [ 0.38249692, -0.07446559],\n",
       "       [-0.07537677,  0.02170708],\n",
       "       [-0.0770209 , -0.00650901],\n",
       "       [-0.17310598, -0.16960402],\n",
       "       [-0.49582941, -0.38887596],\n",
       "       [ 0.58040031, -0.35045529],\n",
       "       [-0.15231494,  0.04596933]])"
      ]
     },
     "execution_count": 28,
     "metadata": {},
     "output_type": "execute_result"
    }
   ],
   "source": [
    "pcalist"
   ]
  },
  {
   "cell_type": "code",
   "execution_count": 29,
   "metadata": {},
   "outputs": [
    {
     "data": {
      "text/plain": [
       "<matplotlib.axes._subplots.AxesSubplot at 0x12dc7ea90>"
      ]
     },
     "execution_count": 29,
     "metadata": {},
     "output_type": "execute_result"
    },
    {
     "data": {
      "image/png": "[encoded data removed]",
      "text/plain": [
       "<Figure size 432x288 with 1 Axes>"
      ]
     },
     "metadata": {
      "needs_background": "light"
     },
     "output_type": "display_data"
    }
   ],
   "source": [
    "sns.scatterplot(pcalist[:,0], pcalist[:,1])"
   ]
  },
  {
   "cell_type": "code",
   "execution_count": 32,
   "metadata": {},
   "outputs": [],
   "source": [
    "df11 = pd.DataFrame(pcalist, index=m5, columns=['pca1', 'pca2'])"
   ]
  },
  {
   "cell_type": "code",
   "execution_count": 34,
   "metadata": {},
   "outputs": [],
   "source": [
    "df11.to_csv('pca31.csv')"
   ]
  },
  {
   "cell_type": "code",
   "execution_count": 36,
   "metadata": {},
   "outputs": [
    {
     "data": {
      "text/plain": [
       "array([[-0.13381527,  0.78476898,  0.15953955, -0.56078771, -0.12505395,\n",
       "        -0.1032323 ],\n",
       "       [ 0.04573554, -0.46402629,  0.73908106, -0.47557059,  0.03719389,\n",
       "         0.09378854]])"
      ]
     },
     "execution_count": 36,
     "metadata": {},
     "output_type": "execute_result"
    }
   ],
   "source": [
    "pca.components_"
   ]
  },
  {
   "cell_type": "code",
   "execution_count": 37,
   "metadata": {},
   "outputs": [
    {
     "data": {
      "text/html": [
       "<div>\n",
       "<style scoped>\n",
       "    .dataframe tbody tr th:only-of-type {\n",
       "        vertical-align: middle;\n",
       "    }\n",
       "\n",
       "    .dataframe tbody tr th {\n",
       "        vertical-align: top;\n",
       "    }\n",
       "\n",
       "    .dataframe thead th {\n",
       "        text-align: right;\n",
       "    }\n",
       "</style>\n",
       "<table border=\"1\" class=\"dataframe\">\n",
       "  <thead>\n",
       "    <tr style=\"text-align: right;\">\n",
       "      <th></th>\n",
       "      <th>pca1</th>\n",
       "      <th>pca2</th>\n",
       "    </tr>\n",
       "  </thead>\n",
       "  <tbody>\n",
       "    <tr>\n",
       "      <th>Captain_Marvel_(2019)</th>\n",
       "      <td>-0.024688</td>\n",
       "      <td>0.065886</td>\n",
       "    </tr>\n",
       "    <tr>\n",
       "      <th>Captain_America:_The_First_Avenger</th>\n",
       "      <td>-0.133960</td>\n",
       "      <td>0.105866</td>\n",
       "    </tr>\n",
       "    <tr>\n",
       "      <th>Ant-Man</th>\n",
       "      <td>-0.058146</td>\n",
       "      <td>0.135047</td>\n",
       "    </tr>\n",
       "    <tr>\n",
       "      <th>Iron_Man</th>\n",
       "      <td>0.099823</td>\n",
       "      <td>0.596270</td>\n",
       "    </tr>\n",
       "    <tr>\n",
       "      <th>Iron_Man_2</th>\n",
       "      <td>0.097283</td>\n",
       "      <td>0.587587</td>\n",
       "    </tr>\n",
       "    <tr>\n",
       "      <th>Spider-Man:_Homecoming</th>\n",
       "      <td>-0.094855</td>\n",
       "      <td>0.031889</td>\n",
       "    </tr>\n",
       "    <tr>\n",
       "      <th>Iron_Man_3</th>\n",
       "      <td>-0.048375</td>\n",
       "      <td>0.124753</td>\n",
       "    </tr>\n",
       "    <tr>\n",
       "      <th>Thor:_The_Dark_World</th>\n",
       "      <td>-0.428570</td>\n",
       "      <td>-0.311064</td>\n",
       "    </tr>\n",
       "    <tr>\n",
       "      <th>Captain_America:_The_Winter_Soldier</th>\n",
       "      <td>0.577551</td>\n",
       "      <td>-0.348115</td>\n",
       "    </tr>\n",
       "    <tr>\n",
       "      <th>Avengers:_Age_of_Ultron</th>\n",
       "      <td>0.382497</td>\n",
       "      <td>-0.074466</td>\n",
       "    </tr>\n",
       "    <tr>\n",
       "      <th>Captain_America:_Civil_War</th>\n",
       "      <td>-0.075377</td>\n",
       "      <td>0.021707</td>\n",
       "    </tr>\n",
       "    <tr>\n",
       "      <th>Avengers:_Infinity_War</th>\n",
       "      <td>-0.077021</td>\n",
       "      <td>-0.006509</td>\n",
       "    </tr>\n",
       "    <tr>\n",
       "      <th>Avengers:_Endgame</th>\n",
       "      <td>-0.173106</td>\n",
       "      <td>-0.169604</td>\n",
       "    </tr>\n",
       "    <tr>\n",
       "      <th>Doctor Strange</th>\n",
       "      <td>-0.495829</td>\n",
       "      <td>-0.388876</td>\n",
       "    </tr>\n",
       "    <tr>\n",
       "      <th>Avengers</th>\n",
       "      <td>0.580400</td>\n",
       "      <td>-0.350455</td>\n",
       "    </tr>\n",
       "    <tr>\n",
       "      <th>Black Panther</th>\n",
       "      <td>-0.152315</td>\n",
       "      <td>0.045969</td>\n",
       "    </tr>\n",
       "  </tbody>\n",
       "</table>\n",
       "</div>"
      ],
      "text/plain": [
       "                                         pca1      pca2\n",
       "Captain_Marvel_(2019)               -0.024688  0.065886\n",
       "Captain_America:_The_First_Avenger  -0.133960  0.105866\n",
       "Ant-Man                             -0.058146  0.135047\n",
       "Iron_Man                             0.099823  0.596270\n",
       "Iron_Man_2                           0.097283  0.587587\n",
       "Spider-Man:_Homecoming              -0.094855  0.031889\n",
       "Iron_Man_3                          -0.048375  0.124753\n",
       "Thor:_The_Dark_World                -0.428570 -0.311064\n",
       "Captain_America:_The_Winter_Soldier  0.577551 -0.348115\n",
       "Avengers:_Age_of_Ultron              0.382497 -0.074466\n",
       "Captain_America:_Civil_War          -0.075377  0.021707\n",
       "Avengers:_Infinity_War              -0.077021 -0.006509\n",
       "Avengers:_Endgame                   -0.173106 -0.169604\n",
       "Doctor Strange                      -0.495829 -0.388876\n",
       "Avengers                             0.580400 -0.350455\n",
       "Black Panther                       -0.152315  0.045969"
      ]
     },
     "execution_count": 37,
     "metadata": {},
     "output_type": "execute_result"
    }
   ],
   "source": [
    "df11"
   ]
  }
 ],
 "metadata": {
  "kernelspec": {
   "display_name": "Python [conda env:metis] *",
   "language": "python",
   "name": "conda-env-metis-py"
  },
  "language_info": {
   "codemirror_mode": {
    "name": "ipython",
    "version": 3
   },
   "file_extension": ".py",
   "mimetype": "text/x-python",
   "name": "python",
   "nbconvert_exporter": "python",
   "pygments_lexer": "ipython3",
   "version": "3.8.3"
  }
 },
 "nbformat": 4,
 "nbformat_minor": 4
}
